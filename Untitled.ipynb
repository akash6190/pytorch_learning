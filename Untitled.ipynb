{
 "cells": [
  {
   "cell_type": "markdown",
   "id": "ab0f6e19-7483-4d3a-925d-2cf1e700d75d",
   "metadata": {},
   "source": [
    "# Excercise 1\n",
    "https://www.learnpytorch.io/01_pytorch_workflow/#exercises\n"
   ]
  },
  {
   "cell_type": "markdown",
   "id": "8f6599e6-f517-4dc1-bd4c-33e4bdc697bb",
   "metadata": {},
   "source": [
    "Create a straight line dataset using the linear regression formula (weight * X + bias).\n",
    "* Set weight=0.3 and bias=0.9 there should be at least 100 datapoints total.\n",
    "* Split the data into 80% training, 20% testing.\n",
    "* Plot the training and testing data so it becomes visual."
   ]
  },
  {
   "cell_type": "code",
   "execution_count": null,
   "id": "4a42752f-065b-4340-936f-95de2c3fa42e",
   "metadata": {},
   "outputs": [],
   "source": []
  }
 ],
 "metadata": {
  "kernelspec": {
   "display_name": "Python 3 (ipykernel)",
   "language": "python",
   "name": "python3"
  },
  "language_info": {
   "codemirror_mode": {
    "name": "ipython",
    "version": 3
   },
   "file_extension": ".py",
   "mimetype": "text/x-python",
   "name": "python",
   "nbconvert_exporter": "python",
   "pygments_lexer": "ipython3",
   "version": "3.12.3"
  }
 },
 "nbformat": 4,
 "nbformat_minor": 5
}
