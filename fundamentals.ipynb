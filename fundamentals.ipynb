{
 "cells": [
  {
   "cell_type": "code",
   "execution_count": 6,
   "id": "750bbda0-2b51-4da0-818f-817095367ab8",
   "metadata": {},
   "outputs": [],
   "source": [
    "import torch "
   ]
  },
  {
   "cell_type": "code",
   "execution_count": 9,
   "id": "366558a5-ba21-474b-bb69-329171e3d0f0",
   "metadata": {},
   "outputs": [
    {
     "data": {
      "text/plain": [
       "tensor([[0.3853, 0.3795, 0.5974, 0.5601, 0.0018],\n",
       "        [0.7808, 0.7791, 0.9069, 0.8809, 0.8604],\n",
       "        [0.9635, 0.2816, 0.3078, 0.5389, 0.9701]])"
      ]
     },
     "execution_count": 9,
     "metadata": {},
     "output_type": "execute_result"
    }
   ],
   "source": [
    "# create a tensor\n",
    "some_tensor = torch.rand(3,5)\n",
    "some_tensor"
   ]
  },
  {
   "cell_type": "code",
   "execution_count": 10,
   "id": "02034c50-0a15-492d-aa1c-e89e177830c8",
   "metadata": {},
   "outputs": [
    {
     "name": "stdout",
     "output_type": "stream",
     "text": [
      "torch.float32\n",
      "torch.Size([3, 5])\n",
      "cpu\n"
     ]
    }
   ],
   "source": [
    "print(some_tensor.dtype)\n",
    "print(some_tensor.shape)\n",
    "print(some_tensor.device)\n"
   ]
  },
  {
   "cell_type": "markdown",
   "id": "fee9d64a-887c-40ab-8c5e-75365ba0bc89",
   "metadata": {},
   "source": [
    "### Manipulating Tensors (tensor operations)\n",
    "\n",
    "Tensor operations includes:\n",
    "* Addition\n",
    "* Subtraction\n",
    "* Multiplaction (element*wise)\n",
    "* Division\n",
    "* Mat. Multification\n",
    "* "
   ]
  },
  {
   "cell_type": "code",
   "execution_count": 12,
   "id": "a15ef821-b1ef-496b-b185-c670598a5b25",
   "metadata": {},
   "outputs": [
    {
     "data": {
      "text/plain": [
       "tensor([11, 12, 13])"
      ]
     },
     "execution_count": 12,
     "metadata": {},
     "output_type": "execute_result"
    }
   ],
   "source": [
    "# Create a tensor\n",
    "tensr = torch.tensor([1,2,3])\n",
    "tensr + 10"
   ]
  },
  {
   "cell_type": "code",
   "execution_count": 13,
   "id": "085d9f0a-fc5b-4d73-bd2b-34cae42139ff",
   "metadata": {},
   "outputs": [
    {
     "data": {
      "text/plain": [
       "tensor([-19, -18, -17])"
      ]
     },
     "execution_count": 13,
     "metadata": {},
     "output_type": "execute_result"
    }
   ],
   "source": [
    "# subtraction\n",
    "tensr - 20\n"
   ]
  },
  {
   "cell_type": "code",
   "execution_count": 15,
   "id": "1c270f33-24bd-46a5-89c6-d539415b7ab5",
   "metadata": {},
   "outputs": [
    {
     "data": {
      "text/plain": [
       "tensor([0.1000, 0.2000, 0.3000])"
      ]
     },
     "execution_count": 15,
     "metadata": {},
     "output_type": "execute_result"
    }
   ],
   "source": [
    "tensr /10"
   ]
  },
  {
   "cell_type": "code",
   "execution_count": 16,
   "id": "06499186-236a-42ff-b481-75b3991ba667",
   "metadata": {},
   "outputs": [
    {
     "data": {
      "text/plain": [
       "tensor([10, 20, 30])"
      ]
     },
     "execution_count": 16,
     "metadata": {},
     "output_type": "execute_result"
    }
   ],
   "source": [
    "# Try out pytorch inbuilt fns\n",
    "torch.mul(tensr, 10)"
   ]
  },
  {
   "cell_type": "markdown",
   "id": "232ead54-63f0-4dbd-9937-9fd42d3a43bc",
   "metadata": {},
   "source": [
    "As you can see when we use all the operations it performs element wise\n",
    "It is recommended to use operators rather than using the function unless there are some exceptions"
   ]
  },
  {
   "cell_type": "markdown",
   "id": "9f4e029b-aad8-4871-8749-608e38d8a7e7",
   "metadata": {},
   "source": [
    "### Matrix multiplicatiom\n",
    "\n",
    "Two main ways for performing multiplication in neural networks and deep learning:\n",
    "\n",
    "1. Element-wise (as seen above)\n",
    "2. Matrix Multiplication (dot product)\n",
    "\n",
    "There are twomain rules for performing mutiplication needs to satisfy\n",
    "1. inner dimensions must match:\n",
    "   * `(3,2)  @ (3,2) won't work`\n",
    "   * ` (3,2) @ (2,3) will work`\n",
    "   * ` (5,2) @ (2,8) will work`\n",
    "\n",
    "2. Resulting matrix have the shape of the outer dimensions\n",
    "   * `3,2 @ 2,3 will be 3,3`\n",
    "   * `5,2 @ 2,8 will be 5,8`"
   ]
  },
  {
   "cell_type": "code",
   "execution_count": 20,
   "id": "6627ccf7-2505-4ef0-b25f-43304fc7c08e",
   "metadata": {},
   "outputs": [],
   "source": [
    "MATRIX1 = torch.tensor([1,2,3])"
   ]
  },
  {
   "cell_type": "code",
   "execution_count": 21,
   "id": "d4f29a15-ba1b-4a92-9c3c-bd4a9753da64",
   "metadata": {},
   "outputs": [
    {
     "data": {
      "text/plain": [
       "tensor([1, 4, 9])"
      ]
     },
     "execution_count": 21,
     "metadata": {},
     "output_type": "execute_result"
    }
   ],
   "source": [
    "MATRIX1 * MATRIX1"
   ]
  },
  {
   "cell_type": "code",
   "execution_count": 22,
   "id": "69fe2f87-84ee-4fcc-8df4-901908909d38",
   "metadata": {},
   "outputs": [
    {
     "data": {
      "text/plain": [
       "tensor(14)"
      ]
     },
     "execution_count": 22,
     "metadata": {},
     "output_type": "execute_result"
    }
   ],
   "source": [
    "torch.matmul(MATRIX1, MATRIX1)"
   ]
  },
  {
   "cell_type": "code",
   "execution_count": 26,
   "id": "af7382dd-9622-4469-aabc-b93bc764332c",
   "metadata": {},
   "outputs": [
    {
     "data": {
      "text/plain": [
       "torch.Size([5, 8])"
      ]
     },
     "execution_count": 26,
     "metadata": {},
     "output_type": "execute_result"
    }
   ],
   "source": [
    "\n",
    "torch.matmul(torch.rand(5,2),torch.rand(2,8)).shape"
   ]
  },
  {
   "cell_type": "code",
   "execution_count": 28,
   "id": "4a5c26a1-4684-49e0-87cd-80ec11aa1708",
   "metadata": {},
   "outputs": [
    {
     "data": {
      "text/plain": [
       "tensor([[0.7332, 1.1481, 0.2354, 1.3113],\n",
       "        [1.5553, 1.7199, 0.7786, 2.2074]])"
      ]
     },
     "execution_count": 28,
     "metadata": {},
     "output_type": "execute_result"
    }
   ],
   "source": [
    "# torch.mm is alias of torch.matmul\n",
    "torch.mm(torch.rand(2,3), torch.rand(3,4))\n"
   ]
  },
  {
   "cell_type": "markdown",
   "id": "d438b74e-5cd7-4da6-b406-82132139785b",
   "metadata": {},
   "source": [
    "## Aggregation Utils\n",
    "\n",
    "min, max, sum, "
   ]
  },
  {
   "cell_type": "code",
   "execution_count": 31,
   "id": "e98cf63e-7e4f-41b5-a846-69813d830553",
   "metadata": {},
   "outputs": [
    {
     "data": {
      "text/plain": [
       "tensor([1, 2, 3, 4, 5, 6, 7, 8, 9])"
      ]
     },
     "execution_count": 31,
     "metadata": {},
     "output_type": "execute_result"
    }
   ],
   "source": [
    "tensor = torch.arange(1,10)\n",
    "tensor"
   ]
  },
  {
   "cell_type": "code",
   "execution_count": 32,
   "id": "89843929-40e7-44bc-8594-6cc1455cd07d",
   "metadata": {},
   "outputs": [
    {
     "data": {
      "text/plain": [
       "tensor(1)"
      ]
     },
     "execution_count": 32,
     "metadata": {},
     "output_type": "execute_result"
    }
   ],
   "source": [
    "tensor.min()"
   ]
  },
  {
   "cell_type": "code",
   "execution_count": 33,
   "id": "7af53bb5-8c82-4150-95ac-4977758ea36f",
   "metadata": {},
   "outputs": [
    {
     "data": {
      "text/plain": [
       "tensor(9)"
      ]
     },
     "execution_count": 33,
     "metadata": {},
     "output_type": "execute_result"
    }
   ],
   "source": [
    "tensor.max()"
   ]
  },
  {
   "cell_type": "code",
   "execution_count": 34,
   "id": "435884a4-0cde-46bb-8170-a130f26d9acd",
   "metadata": {},
   "outputs": [
    {
     "data": {
      "text/plain": [
       "tensor(0)"
      ]
     },
     "execution_count": 34,
     "metadata": {},
     "output_type": "execute_result"
    }
   ],
   "source": [
    "# index of min value\n",
    "tensor.argmin()"
   ]
  },
  {
   "cell_type": "code",
   "execution_count": 35,
   "id": "1d3d79cb-d4ce-4b3a-972c-c85757c5113a",
   "metadata": {},
   "outputs": [
    {
     "data": {
      "text/plain": [
       "tensor(8)"
      ]
     },
     "execution_count": 35,
     "metadata": {},
     "output_type": "execute_result"
    }
   ],
   "source": [
    "# inde xof max value\n",
    "tensor.argmax()"
   ]
  },
  {
   "cell_type": "code",
   "execution_count": 36,
   "id": "4f71d199-51f4-4f64-8972-9f53c68083dc",
   "metadata": {},
   "outputs": [
    {
     "data": {
      "text/plain": [
       "tensor(45)"
      ]
     },
     "execution_count": 36,
     "metadata": {},
     "output_type": "execute_result"
    }
   ],
   "source": [
    "# sum\n",
    "tensor.sum()"
   ]
  },
  {
   "cell_type": "code",
   "execution_count": 38,
   "id": "251008f0-30bf-4092-8905-4a9d926ef6a2",
   "metadata": {},
   "outputs": [
    {
     "data": {
      "text/plain": [
       "tensor(5., dtype=torch.float16)"
      ]
     },
     "execution_count": 38,
     "metadata": {},
     "output_type": "execute_result"
    }
   ],
   "source": [
    "# mean requires flating point or a long\n",
    "tensor.type(torch.float16).mean()"
   ]
  },
  {
   "cell_type": "markdown",
   "id": "8ffd315e-09e3-4e78-97b8-4a83bf75a74a",
   "metadata": {},
   "source": [
    "### ReShape\n",
    "\n",
    "You can reshape any tensor, only make sure that the shape dimensions multiplications are same from where it is being reshaped"
   ]
  },
  {
   "cell_type": "code",
   "execution_count": 40,
   "id": "8493d1b0-6d82-497f-8f2b-6fa3c39dc12a",
   "metadata": {},
   "outputs": [],
   "source": [
    "x = torch.arange(1,10)"
   ]
  },
  {
   "cell_type": "code",
   "execution_count": 41,
   "id": "2fd43503-f876-4353-9672-b553e5199bbe",
   "metadata": {},
   "outputs": [
    {
     "data": {
      "text/plain": [
       "tensor([[1, 2, 3, 4, 5, 6, 7, 8, 9]])"
      ]
     },
     "execution_count": 41,
     "metadata": {},
     "output_type": "execute_result"
    }
   ],
   "source": [
    "x_reshaped = x.reshape(1, 9)\n",
    "x_reshaped"
   ]
  },
  {
   "cell_type": "code",
   "execution_count": 42,
   "id": "19c7c0ea-04b8-4b52-8e98-6a752d80be1b",
   "metadata": {},
   "outputs": [
    {
     "data": {
      "text/plain": [
       "tensor([[1, 2, 3],\n",
       "        [4, 5, 6],\n",
       "        [7, 8, 9]])"
      ]
     },
     "execution_count": 42,
     "metadata": {},
     "output_type": "execute_result"
    }
   ],
   "source": [
    "x.reshape(3,3) "
   ]
  },
  {
   "cell_type": "markdown",
   "id": "f0a64021-75a0-430d-9153-fa114c6d3e65",
   "metadata": {},
   "source": [
    "### View\n",
    "\n",
    "Creates a view of the tensor, it is very similar to reshape, but it still contains the reference of the original tensor, so if you change anything in the tensor will its view will also change and viceversa\n"
   ]
  },
  {
   "cell_type": "code",
   "execution_count": 44,
   "id": "05571518-ae4d-4aeb-b872-a2a921dbfd39",
   "metadata": {},
   "outputs": [
    {
     "data": {
      "text/plain": [
       "tensor([[1, 2, 3],\n",
       "        [4, 5, 6],\n",
       "        [7, 8, 9]])"
      ]
     },
     "execution_count": 44,
     "metadata": {},
     "output_type": "execute_result"
    }
   ],
   "source": [
    "x_view = x.view(3,3)\n",
    "x_view"
   ]
  },
  {
   "cell_type": "code",
   "execution_count": 45,
   "id": "743d79d0-a61c-43c1-bb21-5cf0b53e8371",
   "metadata": {},
   "outputs": [],
   "source": [
    "x[3] = 99"
   ]
  },
  {
   "cell_type": "code",
   "execution_count": 46,
   "id": "28e1083a-0e7b-4073-991f-f3a2665fb694",
   "metadata": {},
   "outputs": [
    {
     "data": {
      "text/plain": [
       "tensor([[ 1,  2,  3],\n",
       "        [99,  5,  6],\n",
       "        [ 7,  8,  9]])"
      ]
     },
     "execution_count": 46,
     "metadata": {},
     "output_type": "execute_result"
    }
   ],
   "source": [
    "x_view"
   ]
  },
  {
   "cell_type": "code",
   "execution_count": 47,
   "id": "ca783d33-8228-42bb-9ad4-4f725ba0aa63",
   "metadata": {},
   "outputs": [],
   "source": [
    "x_view[:, 2] = 80"
   ]
  },
  {
   "cell_type": "code",
   "execution_count": 48,
   "id": "0e4ccfd1-8de1-484a-8381-7fb1e3feeb1c",
   "metadata": {},
   "outputs": [
    {
     "data": {
      "text/plain": [
       "tensor([ 1,  2, 80, 99,  5, 80,  7,  8, 80])"
      ]
     },
     "execution_count": 48,
     "metadata": {},
     "output_type": "execute_result"
    }
   ],
   "source": [
    "x"
   ]
  },
  {
   "cell_type": "code",
   "execution_count": 52,
   "id": "5340d969-7c71-425f-840b-6ae961c62171",
   "metadata": {},
   "outputs": [],
   "source": [
    "x_stacked = torch.stack((x,x,x)\n",
    "                       )"
   ]
  },
  {
   "cell_type": "code",
   "execution_count": 53,
   "id": "7bfbf3aa-357e-4e23-8cc3-7b296becb276",
   "metadata": {},
   "outputs": [
    {
     "data": {
      "text/plain": [
       "tensor([[ 1,  2, 80, 99,  5, 80,  7,  8, 80],\n",
       "        [ 1,  2, 80, 99,  5, 80,  7,  8, 80],\n",
       "        [ 1,  2, 80, 99,  5, 80,  7,  8, 80]])"
      ]
     },
     "execution_count": 53,
     "metadata": {},
     "output_type": "execute_result"
    }
   ],
   "source": [
    "x_stacked"
   ]
  },
  {
   "cell_type": "code",
   "execution_count": 60,
   "id": "9ed9ed69-1d8a-4675-86b4-c6e2f6b81300",
   "metadata": {},
   "outputs": [
    {
     "name": "stdout",
     "output_type": "stream",
     "text": [
      "Previous tensor: tensor([[ 1,  2, 80, 99,  5, 80,  7,  8, 80]])\n",
      "Previous  shape: torch.Size([1, 9])\n",
      "New tensor: tensor([ 1,  2, 80, 99,  5, 80,  7,  8, 80])\n"
     ]
    }
   ],
   "source": [
    "print(f\"Previous tensor: {x_reshaped}\")\n",
    "print(f\"Previous  shape: {x_reshaped.shape}\")\n",
    "\n",
    "x_squeezed = x_reshaped.squeeze()\n",
    "print(f\"New tensor: {x_squeezed}\")\n",
    "print(f\"New tensor shape \")"
   ]
  },
  {
   "cell_type": "markdown",
   "id": "0b47d091-0fb0-408e-bb85-0f745acdeefb",
   "metadata": {},
   "source": [
    "squeeze removes a single dimensions and unsqueeze adds different diemsions, permute rearranges"
   ]
  },
  {
   "cell_type": "code",
   "execution_count": 64,
   "id": "74770d7e-ff6c-4467-a487-098c0c92c916",
   "metadata": {},
   "outputs": [
    {
     "name": "stdout",
     "output_type": "stream",
     "text": [
      "X_original shape: torch.Size([10, 10, 3])\n",
      "Permuted shape: torch.Size([3, 10, 10])\n"
     ]
    }
   ],
   "source": [
    "x_original = torch.rand(size=(10,10,3)) # example of an rgb image of 10,10 pxies and 3 colour channels [height, width, colour_channels]\n",
    "\n",
    "#rearrange use permute \n",
    "#permute just returns a different view, so it is a reference \n",
    "x_permuted = x_original.permute(2, 0, 1) # this will rearrange to [colour_channels, height, width]\n",
    "print(f\"X_original shape: {x_original.shape}\")\n",
    "\n",
    "print(f\"Permuted shape: {x_permuted.shape}\")\n"
   ]
  },
  {
   "cell_type": "markdown",
   "id": "0ccea944-231c-4380-a8a8-848c86b3e774",
   "metadata": {},
   "source": [
    "## Indexing (selecting data from tensors)\n",
    "\n",
    "Indexing with pytorch is very similar to NumPy\n"
   ]
  },
  {
   "cell_type": "code",
   "execution_count": 65,
   "id": "22ff28f9-0973-426d-b867-0e97f5f8ac0c",
   "metadata": {},
   "outputs": [
    {
     "data": {
      "text/plain": [
       "tensor([[[1, 2, 3],\n",
       "         [4, 5, 6],\n",
       "         [7, 8, 9]]])"
      ]
     },
     "execution_count": 65,
     "metadata": {},
     "output_type": "execute_result"
    }
   ],
   "source": [
    "x = torch.arange(1, 10 ).reshape(1,3,3)\n",
    "x"
   ]
  },
  {
   "cell_type": "code",
   "execution_count": 68,
   "id": "dc08e8d7-0e79-435a-b489-51b2b3d0edc2",
   "metadata": {},
   "outputs": [
    {
     "data": {
      "text/plain": [
       "tensor([1, 2, 3])"
      ]
     },
     "execution_count": 68,
     "metadata": {},
     "output_type": "execute_result"
    }
   ],
   "source": [
    "x[0][0]"
   ]
  },
  {
   "cell_type": "code",
   "execution_count": 67,
   "id": "867586a9-7995-4266-9f44-963c70416264",
   "metadata": {},
   "outputs": [
    {
     "data": {
      "text/plain": [
       "tensor([1, 2, 3])"
      ]
     },
     "execution_count": 67,
     "metadata": {},
     "output_type": "execute_result"
    }
   ],
   "source": [
    "x[0,0]"
   ]
  },
  {
   "cell_type": "markdown",
   "id": "8b9ef242-25fe-4eca-9831-e9eafba29131",
   "metadata": {},
   "source": [
    "both x[0][0] and x[0,0] can be used to same "
   ]
  },
  {
   "cell_type": "code",
   "execution_count": 69,
   "id": "2a34d7c1-d0dd-43ab-a3e5-390686f6dca7",
   "metadata": {},
   "outputs": [
    {
     "name": "stdout",
     "output_type": "stream",
     "text": [
      "99 1479.507628425637\n",
      "199 1049.5582634849402\n",
      "299 745.3025618151387\n",
      "399 529.9945658473349\n",
      "499 377.63083704003725\n",
      "599 269.8099184826438\n",
      "699 193.50993167353377\n",
      "799 139.5158823355651\n",
      "899 101.30673591065647\n",
      "999 74.26785124778438\n",
      "1099 55.13365556011581\n",
      "1199 41.59325070913542\n",
      "1299 32.01131861608006\n",
      "1399 25.23061864862825\n",
      "1499 20.432223956702334\n",
      "1599 17.03661705016868\n",
      "1699 14.633699613431334\n",
      "1799 12.933263617354047\n",
      "1899 11.729941965635438\n",
      "1999 10.878405652685583\n",
      "Result: y = -0.048056357312097446 + 0.8567557739339094 x + 0.00829052129757416 x^2 + -0.09333251282543256 x^3\n"
     ]
    }
   ],
   "source": [
    "import numpy as np\n",
    "import math\n",
    "\n",
    "# Create random input and output data\n",
    "x = np.linspace(-math.pi, math.pi, 2000)\n",
    "y = np.sin(x)\n",
    "\n",
    "# Randomly initialize weights\n",
    "a = np.random.randn()\n",
    "b = np.random.randn()\n",
    "c = np.random.randn()\n",
    "d = np.random.randn()\n",
    "\n",
    "learning_rate = 1e-6\n",
    "for t in range(2000):\n",
    "    # Forward pass: compute predicted y\n",
    "    # y = a + b x + c x^2 + d x^3\n",
    "    y_pred = a + b * x + c * x ** 2 + d * x ** 3\n",
    "\n",
    "    # Compute and print loss\n",
    "    loss = np.square(y_pred - y).sum()\n",
    "    if t % 100 == 99:\n",
    "        print(t, loss)\n",
    "\n",
    "    # Backprop to compute gradients of a, b, c, d with respect to loss\n",
    "    grad_y_pred = 2.0 * (y_pred - y)\n",
    "    grad_a = grad_y_pred.sum()\n",
    "    grad_b = (grad_y_pred * x).sum()\n",
    "    grad_c = (grad_y_pred * x ** 2).sum()\n",
    "    grad_d = (grad_y_pred * x ** 3).sum()\n",
    "\n",
    "    # Update weights\n",
    "    a -= learning_rate * grad_a\n",
    "    b -= learning_rate * grad_b\n",
    "    c -= learning_rate * grad_c\n",
    "    d -= learning_rate * grad_d\n",
    "\n",
    "print(f'Result: y = {a} + {b} x + {c} x^2 + {d} x^3')"
   ]
  },
  {
   "cell_type": "code",
   "execution_count": 70,
   "id": "4fb78aad-66dd-44fd-b3d1-1f382dd596ee",
   "metadata": {},
   "outputs": [
    {
     "name": "stdout",
     "output_type": "stream",
     "text": [
      "99 251.90322875976562\n",
      "199 178.31402587890625\n",
      "299 127.09652709960938\n",
      "399 91.41641235351562\n",
      "499 66.54051971435547\n",
      "599 49.18370819091797\n",
      "699 37.064239501953125\n",
      "799 28.59569549560547\n",
      "899 22.674280166625977\n",
      "999 18.531143188476562\n",
      "1099 15.630403518676758\n",
      "1199 13.598322868347168\n",
      "1299 12.173957824707031\n",
      "1399 11.175004959106445\n",
      "1499 10.474068641662598\n",
      "1599 9.981979370117188\n",
      "1699 9.636360168457031\n",
      "1799 9.393506050109863\n",
      "1899 9.22278881072998\n",
      "1999 9.10273551940918\n",
      "Result: y = -0.01721774972975254 + 0.8522889018058777 x + 0.002970347413793206 x^2 + -0.0926971361041069 x^3\n"
     ]
    }
   ],
   "source": [
    "# -*- coding: utf-8 -*-\n",
    "\n",
    "import torch\n",
    "import math\n",
    "\n",
    "\n",
    "dtype = torch.float\n",
    "# device = torch.device(\"cpu\")\n",
    "device = torch.device(\"cuda:0\") # Uncomment this to run on GPU\n",
    "\n",
    "# Create random input and output data\n",
    "x = torch.linspace(-math.pi, math.pi, 2000, device=device, dtype=dtype)\n",
    "y = torch.sin(x)\n",
    "\n",
    "# Randomly initialize weights\n",
    "a = torch.randn((), device=device, dtype=dtype)\n",
    "b = torch.randn((), device=device, dtype=dtype)\n",
    "c = torch.randn((), device=device, dtype=dtype)\n",
    "d = torch.randn((), device=device, dtype=dtype)\n",
    "\n",
    "learning_rate = 1e-6\n",
    "for t in range(2000):\n",
    "    # Forward pass: compute predicted y\n",
    "    y_pred = a + b * x + c * x ** 2 + d * x ** 3\n",
    "\n",
    "    # Compute and print loss\n",
    "    loss = (y_pred - y).pow(2).sum().item()\n",
    "    if t % 100 == 99:\n",
    "        print(t, loss)\n",
    "\n",
    "    # Backprop to compute gradients of a, b, c, d with respect to loss\n",
    "    grad_y_pred = 2.0 * (y_pred - y)\n",
    "    grad_a = grad_y_pred.sum()\n",
    "    grad_b = (grad_y_pred * x).sum()\n",
    "    grad_c = (grad_y_pred * x ** 2).sum()\n",
    "    grad_d = (grad_y_pred * x ** 3).sum()\n",
    "\n",
    "    # Update weights using gradient descent\n",
    "    a -= learning_rate * grad_a\n",
    "    b -= learning_rate * grad_b\n",
    "    c -= learning_rate * grad_c\n",
    "    d -= learning_rate * grad_d\n",
    "\n",
    "\n",
    "print(f'Result: y = {a.item()} + {b.item()} x + {c.item()} x^2 + {d.item()} x^3')"
   ]
  },
  {
   "cell_type": "markdown",
   "id": "d512ce6f-c1e5-41f5-875b-7ff5b78a4a1b",
   "metadata": {},
   "source": [
    "# Pytorch tensors & NumPy\n",
    "\n",
    "Numpy is a popular scientific Python numerical computing library.\n",
    "And because of this, PyTorch has functionalty to interact with it.\n",
    "* Data in NumPy, want in PyTorch tensor -> torch.from_numpy(ndarray)\n",
    "* PyTorch tensor -> NumPY => torch.Tensor.numpy()\n",
    "    "
   ]
  },
  {
   "cell_type": "code",
   "execution_count": 71,
   "id": "712f5c46-6dbd-468c-9a21-18bb39003aa2",
   "metadata": {},
   "outputs": [
    {
     "data": {
      "text/plain": [
       "(array([1., 2., 3., 4., 5., 6., 7.]),\n",
       " tensor([1., 2., 3., 4., 5., 6., 7.], dtype=torch.float64))"
      ]
     },
     "execution_count": 71,
     "metadata": {},
     "output_type": "execute_result"
    }
   ],
   "source": [
    "import torch\n",
    "import numpy as np\n",
    "\n",
    "array = np.arange(1., 8.)\n",
    "tensor = torch.from_numpy(array)\n",
    "array,tensor"
   ]
  },
  {
   "cell_type": "markdown",
   "id": "006ad35e-537b-454e-86db-c8117605e485",
   "metadata": {},
   "source": [
    "Default numpy is float64 or int64, so when converting from numpy to torch, it reflects the nump\n"
   ]
  },
  {
   "cell_type": "code",
   "execution_count": 72,
   "id": "33cd79ac-9aef-4b82-8aa6-85012079136e",
   "metadata": {},
   "outputs": [
    {
     "data": {
      "text/plain": [
       "(array([11.,  2.,  3.,  4.,  5.,  6.,  7.]),\n",
       " tensor([11.,  2.,  3.,  4.,  5.,  6.,  7.], dtype=torch.float64))"
      ]
     },
     "execution_count": 72,
     "metadata": {},
     "output_type": "execute_result"
    }
   ],
   "source": [
    "array[0] = 11\n",
    "array,tensor"
   ]
  },
  {
   "cell_type": "markdown",
   "id": "fcf36f6f-808e-40da-b5c0-6edac20f8773",
   "metadata": {},
   "source": [
    "they both share memory\n"
   ]
  },
  {
   "cell_type": "code",
   "execution_count": 73,
   "id": "7d3dcd62-f4ec-4561-a77f-7ad7c5d49b3c",
   "metadata": {},
   "outputs": [
    {
     "data": {
      "text/plain": [
       "array([11.,  2.,  3.,  4.,  5.,  6.,  7.])"
      ]
     },
     "execution_count": 73,
     "metadata": {},
     "output_type": "execute_result"
    }
   ],
   "source": [
    "tensor.numpy()\n"
   ]
  },
  {
   "cell_type": "markdown",
   "id": "dfb23e83-6fe0-40c1-8e42-2e4b546be3bf",
   "metadata": {},
   "source": [
    "## Reproducible random numbers\n",
    "\n",
    "`start with random numbers - tensor operations -> update random numbers to trying to make them better represenataion of the data -> again -> again-> again ...`"
   ]
  },
  {
   "cell_type": "code",
   "execution_count": 76,
   "id": "145b2ff2-d644-411d-b496-30523bdcce87",
   "metadata": {},
   "outputs": [
    {
     "data": {
      "text/plain": [
       "(tensor([[0.1175, 0.0328, 0.1520],\n",
       "         [0.5459, 0.5087, 0.1619],\n",
       "         [0.3016, 0.3013, 0.7370]]),\n",
       " tensor([[0.7368, 0.9913, 0.7414],\n",
       "         [0.9076, 0.5801, 0.9133],\n",
       "         [0.0069, 0.6980, 0.7764]]))"
      ]
     },
     "execution_count": 76,
     "metadata": {},
     "output_type": "execute_result"
    }
   ],
   "source": [
    "torch.rand(3,3), torch.rand(3,3)"
   ]
  },
  {
   "cell_type": "markdown",
   "id": "c2d0307e-722a-464b-83a1-b815e63b7a6b",
   "metadata": {},
   "source": [
    "to reduce the randomness in neural networks and PyTorch comes the concept of **random seed**.\n"
   ]
  },
  {
   "cell_type": "code",
   "execution_count": 85,
   "id": "22186968-b387-43e2-a3b6-770ad86dfcf3",
   "metadata": {},
   "outputs": [
    {
     "name": "stdout",
     "output_type": "stream",
     "text": [
      "tensor([[0.4775, 0.1798, 0.2428],\n",
      "        [0.2166, 0.9245, 0.6069],\n",
      "        [0.5380, 0.7022, 0.7608]])\n",
      "tensor([[0.4775, 0.1798, 0.2428],\n",
      "        [0.2166, 0.9245, 0.6069],\n",
      "        [0.5380, 0.7022, 0.7608]])\n",
      "tensor([[0.4775, 0.1798, 0.2428],\n",
      "        [0.2166, 0.9245, 0.6069],\n",
      "        [0.5380, 0.7022, 0.7608]])\n"
     ]
    },
    {
     "data": {
      "text/plain": [
       "tensor([[0.4775, 0.1798, 0.2428],\n",
       "        [0.2166, 0.9245, 0.6069],\n",
       "        [0.5380, 0.7022, 0.7608]])"
      ]
     },
     "execution_count": 85,
     "metadata": {},
     "output_type": "execute_result"
    }
   ],
   "source": [
    "RANDOM_SEED = 48 # this is the seed used to  get the random\n",
    "torch.random.manual_seed(RANDOM_SEED)\n",
    "print(torch.rand(3,3))\n",
    "torch.random.manual_seed(RANDOM_SEED)\n",
    "print(torch.rand(3,3))\n",
    "torch.random.manual_seed(RANDOM_SEED)\n",
    "print(torch.rand(3,3))\n",
    "torch.random.manual_seed(RANDOM_SEED)\n",
    "torch.rand(3,3)"
   ]
  },
  {
   "cell_type": "markdown",
   "id": "af48a057-f4a8-41b4-a063-f045af2fc1cd",
   "metadata": {},
   "source": [
    "always make sure manual_seed is set everytime"
   ]
  },
  {
   "cell_type": "markdown",
   "id": "0bae7069-5312-4971-917d-24be4e3d1948",
   "metadata": {},
   "source": [
    "## GPU"
   ]
  },
  {
   "cell_type": "code",
   "execution_count": 86,
   "id": "eb723c35-9a88-4e44-9a9c-1011ae315eb6",
   "metadata": {},
   "outputs": [
    {
     "data": {
      "text/plain": [
       "True"
      ]
     },
     "execution_count": 86,
     "metadata": {},
     "output_type": "execute_result"
    }
   ],
   "source": [
    "# check gpu access\n",
    "torch.cuda.is_available()"
   ]
  },
  {
   "cell_type": "code",
   "execution_count": 90,
   "id": "4c705d16-028d-43b2-8a89-f290d66233af",
   "metadata": {},
   "outputs": [
    {
     "data": {
      "text/plain": [
       "device(type='cuda')"
      ]
     },
     "execution_count": 90,
     "metadata": {},
     "output_type": "execute_result"
    }
   ],
   "source": [
    "# Setup device agnostic code\n",
    "# set device variable\n",
    "\n",
    "device = torch.device(\"cuda\") if torch.cuda.is_available() else torch.device(\"cpu\")\n",
    "device"
   ]
  },
  {
   "cell_type": "code",
   "execution_count": 89,
   "id": "b35c8805-ea59-4363-9552-d8d82c294f58",
   "metadata": {},
   "outputs": [
    {
     "data": {
      "text/plain": [
       "1"
      ]
     },
     "execution_count": 89,
     "metadata": {},
     "output_type": "execute_result"
    }
   ],
   "source": [
    "torch.cuda.device_count()"
   ]
  },
  {
   "cell_type": "markdown",
   "id": "b5c03a83-06b4-4b75-a3e2-9ba4bd9e513b",
   "metadata": {},
   "source": [
    "### Putting tensors and models on GPU\n",
    "\n",
    "Computations on CPU is faster\n"
   ]
  },
  {
   "cell_type": "code",
   "execution_count": 91,
   "id": "1ec189d8-805f-4397-970d-6f8643497835",
   "metadata": {},
   "outputs": [
    {
     "data": {
      "text/plain": [
       "(tensor([1, 3, 2, 4]), device(type='cpu'))"
      ]
     },
     "execution_count": 91,
     "metadata": {},
     "output_type": "execute_result"
    }
   ],
   "source": [
    "# cpu\n",
    "tensor = torch.tensor([1,3,2,4])\n",
    "tensor, tensor.device"
   ]
  },
  {
   "cell_type": "code",
   "execution_count": 93,
   "id": "91052769-10b2-4032-bdc2-af8a7d2328ff",
   "metadata": {},
   "outputs": [],
   "source": [
    "# move it to gpu\n",
    "tensor_gpu = tensor.to(device)"
   ]
  },
  {
   "cell_type": "code",
   "execution_count": 95,
   "id": "ec5cd31f-8089-490c-8f02-b11b9e7e36b3",
   "metadata": {},
   "outputs": [
    {
     "data": {
      "text/plain": [
       "array([1, 3, 2, 4])"
      ]
     },
     "execution_count": 95,
     "metadata": {},
     "output_type": "execute_result"
    }
   ],
   "source": [
    "# moving tensor back to cpu\n",
    "# the below will throw the error hence we have to first move to cpu then convert to numpy\n",
    "# tensor_gpu.numpy()\n",
    "\n",
    "tensor_gpu.cpu().numpy()"
   ]
  },
  {
   "cell_type": "code",
   "execution_count": null,
   "id": "28e5a731-cb91-430e-bb83-8437fcf1305a",
   "metadata": {},
   "outputs": [],
   "source": []
  }
 ],
 "metadata": {
  "kernelspec": {
   "display_name": "Python 3 (ipykernel)",
   "language": "python",
   "name": "python3"
  },
  "language_info": {
   "codemirror_mode": {
    "name": "ipython",
    "version": 3
   },
   "file_extension": ".py",
   "mimetype": "text/x-python",
   "name": "python",
   "nbconvert_exporter": "python",
   "pygments_lexer": "ipython3",
   "version": "3.12.3"
  }
 },
 "nbformat": 4,
 "nbformat_minor": 5
}
