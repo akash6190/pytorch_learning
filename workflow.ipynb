{
 "cells": [
  {
   "cell_type": "markdown",
   "metadata": {},
   "source": [
    "# Deeplearning Workflow using PyTorch\n"
   ]
  },
  {
   "cell_type": "markdown",
   "metadata": {},
   "source": [
    "1. Get data ready (create data tensors)\n",
    "2. Build/Select a pretrained model\n",
    "    2.1. Pick a loss function and optimizer\n",
    "    b. Build a training loop\n",
    "3. Fit the model to the data and make a prediction\n",
    "4. Evaluate the model\n",
    "5. Improve through experimentation\n",
    "6. Save and reload our trained model\n"
   ]
  },
  {
   "cell_type": "code",
   "execution_count": 34,
   "metadata": {},
   "outputs": [],
   "source": [
    "what_would_be_covered = {\n",
    "    1: \"data (prepare and load)\",\n",
    "    2: 'build model',\n",
    "    3: 'fitting the model to data (training)',\n",
    "    4: 'making predictions and evaluting a model (inference)',\n",
    "    5: 'saving and loading a model',\n",
    "    6: 'putting it all together'\n",
    "}"
   ]
  },
  {
   "cell_type": "code",
   "execution_count": 35,
   "metadata": {},
   "outputs": [
    {
     "data": {
      "text/plain": [
       "'2.4.0.dev20240528'"
      ]
     },
     "execution_count": 35,
     "metadata": {},
     "output_type": "execute_result"
    }
   ],
   "source": [
    "import torch\n",
    "from torch import nn # nn contains pytorch neural network related packages\n",
    "import matplotlib.pyplot as plt\n",
    "\n",
    "torch.__version__"
   ]
  },
  {
   "cell_type": "markdown",
   "metadata": {},
   "source": [
    "## 1. Data (preparing and loading)\n",
    "Data can be almost anything... in machine learning.\n",
    "\n",
    "* Excel spreadsheet\n",
    "* Images of any kind\n",
    "* Audio/visual data (youtube/songs/podcasts)\n",
    "* DNA\n",
    "* Text\n",
    "\n",
    "An eagle eye's view Machine learning majorly has two steps \n",
    "1. Get data into a numerical representation\n",
    "2. Build a model to learn patterns in the numerical representation\n",
    "\n",
    "Lets create some known linear regresion (y = f(x, b) + e) data, the simplest possible is y = x + bx\n",
    "\n",
    "We will us the formula to make a straight line with known parameters\n"
   ]
  },
  {
   "cell_type": "code",
   "execution_count": 36,
   "metadata": {},
   "outputs": [
    {
     "data": {
      "text/plain": [
       "(tensor([[0.0000],\n",
       "         [0.0200],\n",
       "         [0.0400],\n",
       "         [0.0600],\n",
       "         [0.0800],\n",
       "         [0.1000],\n",
       "         [0.1200],\n",
       "         [0.1400],\n",
       "         [0.1600],\n",
       "         [0.1800]]),\n",
       " tensor([[0.8000],\n",
       "         [0.8060],\n",
       "         [0.8120],\n",
       "         [0.8180],\n",
       "         [0.8240],\n",
       "         [0.8300],\n",
       "         [0.8360],\n",
       "         [0.8420],\n",
       "         [0.8480],\n",
       "         [0.8540]]))"
      ]
     },
     "execution_count": 36,
     "metadata": {},
     "output_type": "execute_result"
    }
   ],
   "source": [
    "# create known parameters\n",
    "weight = 0.3\n",
    "bias = 0.8\n",
    "\n",
    "# build a model to estimate this numbers\n",
    "#create\n",
    "start = 0 \n",
    "end = 1\n",
    "step = 0.02\n",
    "\n",
    "# create a range from start to end this will create [0,0.02,....0.98] and unsequeeze to add another dimension \n",
    "# this will convert it into [[0,0.02...0.98]]\n",
    "X = torch.arange(start, end, step).unsqueeze(dim=1)\n",
    "\n",
    "y = weight * X + bias\n",
    "\n",
    "# list first ten values\n",
    "X[:10], y[:10]"
   ]
  },
  {
   "cell_type": "code",
   "execution_count": 37,
   "metadata": {},
   "outputs": [
    {
     "data": {
      "text/plain": [
       "(50, 50)"
      ]
     },
     "execution_count": 37,
     "metadata": {},
     "output_type": "execute_result"
    }
   ],
   "source": [
    "len(X), len(y)"
   ]
  },
  {
   "cell_type": "markdown",
   "metadata": {},
   "source": [
    "### Splitting the data into training and test sets\n",
    "training set (60%) + validation set (20%) + test set (20%)"
   ]
  },
  {
   "cell_type": "code",
   "execution_count": 38,
   "metadata": {},
   "outputs": [
    {
     "data": {
      "text/plain": [
       "(30, 30, 20, 20)"
      ]
     },
     "execution_count": 38,
     "metadata": {},
     "output_type": "execute_result"
    }
   ],
   "source": [
    "# Creating training split\n",
    "\n",
    "train_split = int(0.6 * len(X))\n",
    "X_train, y_train = X[:train_split], y[:train_split]\n",
    "X_test, y_test = X[train_split:], y[train_split:]\n",
    "\n",
    "len(X_train), len(y_train), len(X_test), len(y_test)"
   ]
  },
  {
   "cell_type": "markdown",
   "metadata": {},
   "source": [
    "### Visualizing the data \n",
    "\n",
    "We will be using matplotlib to better visualize the data."
   ]
  },
  {
   "cell_type": "code",
   "execution_count": 39,
   "metadata": {},
   "outputs": [],
   "source": [
    "def plot_predictions(\n",
    "  train_data=X_train,\n",
    "  train_labels=y_train,\n",
    "  test_data= X_test,\n",
    "  test_labels=y_test,\n",
    "  prediction=None\n",
    "  ):\n",
    "  \"\"\"\n",
    "  Plots training data, test data and compares predictions.\n",
    "  \"\"\"\n",
    "\n",
    "  plt.figure(figsize=(10,7))\n",
    "\n",
    "  #plotting training data in blue\n",
    "  plt.scatter(train_data, train_labels, s=6, c=\"b\", label=\"Training data\")\n",
    "\n",
    "  plt.scatter(test_data, test_labels, s=6, c=\"g\", label=\"Test data\")  \n",
    "\n",
    "  if prediction is not None: \n",
    "    plt.scatter(test_data, prediction, c=\"r\", s=6, label=\"Predictions\")\n",
    "\n",
    "  plt.legend(prop={\"size\": 14})"
   ]
  },
  {
   "cell_type": "code",
   "execution_count": 40,
   "metadata": {},
   "outputs": [
    {
     "data": {
      "image/png": "[encoded data removed]",
      "text/plain": [
       "<Figure size 1000x700 with 1 Axes>"
      ]
     },
     "metadata": {},
     "output_type": "display_data"
    }
   ],
   "source": [
    "plot_predictions()"
   ]
  },
  {
   "cell_type": "markdown",
   "metadata": {},
   "source": [
    "## Build Model\n",
    "\n",
    "Create the linear regression model\n",
    "\n",
    "What our model does:\n",
    "* Start with random values (weight & bias)\n",
    "* Look at training data and adjust the random values to better represent the ideal values\n",
    "\n",
    "It does with two main algorithms\n",
    "1. Gradient Descent\n",
    "2. Backpropagation"
   ]
  },
  {
   "cell_type": "code",
   "execution_count": 41,
   "metadata": {},
   "outputs": [],
   "source": [
    "# create linear regression model class\n",
    "\n",
    "class LinearRegressionModel(nn.Module):\n",
    "  def __init__(self, *args, **kwargs) -> None:\n",
    "    super().__init__(*args, **kwargs)\n",
    "    self.weights = nn.Parameter(torch.randn(1, requires_grad=True, dtype=torch.float))\n",
    "\n",
    "    self.bias = nn.Parameter(torch.randn(1, requires_grad=True, dtype=torch.float))\n",
    "\n",
    "  def forward(self, x: torch.Tensor) -> torch.Tensor:\n",
    "    return self.weights * x + self.bias # this is the linear regression formula"
   ]
  },
  {
   "cell_type": "markdown",
   "metadata": {},
   "source": [
    "### Pytorch model building essentials\n",
    "\n",
    "* torch.nn contains building blocks for computation graph(neural network)\n",
    "* torch.nn.Parameter , what parameters our model should try and learn\n",
    "* torch.nn.Module, is the base class for all models, and when we inherit it, forward() should be defined\n",
    "* torch.optim -> this are the optimizers that can be used eg gradiend descent\n",
    "* def forward() -> All nn module should habe this function\n"
   ]
  },
  {
   "cell_type": "code",
   "execution_count": 42,
   "metadata": {},
   "outputs": [
    {
     "data": {
      "text/plain": [
       "[Parameter containing:\n",
       " tensor([0.3367], requires_grad=True),\n",
       " Parameter containing:\n",
       " tensor([0.1288], requires_grad=True)]"
      ]
     },
     "execution_count": 42,
     "metadata": {},
     "output_type": "execute_result"
    }
   ],
   "source": [
    "torch.manual_seed(42)\n",
    "\n",
    "model_0 = LinearRegressionModel()\n",
    "\n",
    "list(model_0.parameters())"
   ]
  },
  {
   "cell_type": "code",
   "execution_count": 43,
   "metadata": {},
   "outputs": [
    {
     "data": {
      "text/plain": [
       "OrderedDict([('weights', tensor([0.3367])), ('bias', tensor([0.1288]))])"
      ]
     },
     "execution_count": 43,
     "metadata": {},
     "output_type": "execute_result"
    }
   ],
   "source": [
    "model_0.state_dict()"
   ]
  },
  {
   "cell_type": "markdown",
   "metadata": {},
   "source": [
    "### Making predictions using `torch.inference_mode()`\n",
    "\n",
    "As we are using requires_grad as true, pytorch keeps track of it everytime data is ran throwugh forward() method"
   ]
  },
  {
   "cell_type": "code",
   "execution_count": 44,
   "metadata": {},
   "outputs": [
    {
     "data": {
      "text/plain": [
       "tensor([[0.3308],\n",
       "        [0.3376],\n",
       "        [0.3443],\n",
       "        [0.3510],\n",
       "        [0.3578],\n",
       "        [0.3645],\n",
       "        [0.3712],\n",
       "        [0.3780],\n",
       "        [0.3847],\n",
       "        [0.3914],\n",
       "        [0.3982],\n",
       "        [0.4049],\n",
       "        [0.4116],\n",
       "        [0.4184],\n",
       "        [0.4251],\n",
       "        [0.4318],\n",
       "        [0.4386],\n",
       "        [0.4453],\n",
       "        [0.4520],\n",
       "        [0.4588]])"
      ]
     },
     "execution_count": 44,
     "metadata": {},
     "output_type": "execute_result"
    }
   ],
   "source": [
    "with torch.inference_mode():\n",
    "  y_preds = model_0(X_test)\n",
    "\n",
    "y_preds"
   ]
  },
  {
   "cell_type": "code",
   "execution_count": 45,
   "metadata": {},
   "outputs": [
    {
     "data": {
      "image/png": "[encoded data removed]",
      "text/plain": [
       "<Figure size 1000x700 with 1 Axes>"
      ]
     },
     "metadata": {},
     "output_type": "display_data"
    }
   ],
   "source": [
    "plot_predictions(prediction=y_preds)"
   ]
  },
  {
   "cell_type": "markdown",
   "metadata": {},
   "source": [
    "## 3. Train model\n",
    "\n",
    "Traini the model through unknown model to known model, or in other words from a poor representation of the data to better representation\n",
    "\n",
    "\n",
    "This could be achived by using loss function , pytorch provides loss functions which we can use .\n",
    "\n",
    "* **Loss Function**: is a function to measure how wrong the model's predictions are to the ideal outputs, lower is better.\n",
    "* **Optimizer:** Takes into account the loss of a model and adjusts the model's parameters to improve the loss function.\n",
    "\n",
    "For puTorch  we need training and a testing loop"
   ]
  },
  {
   "cell_type": "code",
   "execution_count": 46,
   "metadata": {},
   "outputs": [
    {
     "data": {
      "text/plain": [
       "OrderedDict([('weights', tensor([0.3367])), ('bias', tensor([0.1288]))])"
      ]
     },
     "execution_count": 46,
     "metadata": {},
     "output_type": "execute_result"
    }
   ],
   "source": [
    "model_0.state_dict()"
   ]
  },
  {
   "cell_type": "code",
   "execution_count": 47,
   "metadata": {},
   "outputs": [],
   "source": [
    "# Setup loss function\n",
    "loss_fn = nn.L1Loss() # this is an mae calculates the difference and calculates average\n",
    "\n",
    "# optimizer\n",
    "# lr => learning rate, smaller the rate smaller the change in parameters\n",
    "optimizer = torch.optim.SGD(params=model_0.parameters(), lr=0.01)\n"
   ]
  },
  {
   "cell_type": "markdown",
   "metadata": {},
   "source": [
    "### Building a training loop and a testing loop\n",
    "\n",
    "**Training Loop**\n",
    "0. Loop through the data\n",
    "1. Forward pass/propagation  (this involves data flowing through `forward()` of the modal)\n",
    "2. Calculate the loss (compare forward pass predictions to ground truth labels)\n",
    "3. Optimer zero grad\n",
    "4. Loss backward - move backwards through the network to calculate the gradients of each of the parameters of our model with respoect to the loss (**backpropagation**)\n",
    "5. Optimizer step\n"
   ]
  },
  {
   "cell_type": "code",
   "execution_count": 48,
   "metadata": {},
   "outputs": [
    {
     "name": "stdout",
     "output_type": "stream",
     "text": [
      "Epoch: 0 | Loss: 0.6605504155158997 | test loss: 0.6299142241477966\n",
      "OrderedDict({'weights': tensor([0.3396]), 'bias': tensor([0.1388])})\n",
      "Epoch: 10 | Loss: 0.5521403551101685 | test loss: 0.5070041418075562\n",
      "OrderedDict({'weights': tensor([0.3686]), 'bias': tensor([0.2388])})\n",
      "Epoch: 20 | Loss: 0.4437303841114044 | test loss: 0.3840941786766052\n",
      "OrderedDict({'weights': tensor([0.3976]), 'bias': tensor([0.3388])})\n",
      "Epoch: 30 | Loss: 0.33532047271728516 | test loss: 0.2611842155456543\n",
      "OrderedDict({'weights': tensor([0.4266]), 'bias': tensor([0.4388])})\n",
      "Epoch: 40 | Loss: 0.2269105315208435 | test loss: 0.13827423751354218\n",
      "OrderedDict({'weights': tensor([0.4556]), 'bias': tensor([0.5388])})\n",
      "Epoch: 50 | Loss: 0.11850059777498245 | test loss: 0.021651331335306168\n",
      "OrderedDict({'weights': tensor([0.4846]), 'bias': tensor([0.6388])})\n",
      "Epoch: 60 | Loss: 0.03584592789411545 | test loss: 0.08025965094566345\n",
      "OrderedDict({'weights': tensor([0.5035]), 'bias': tensor([0.7195])})\n",
      "Epoch: 70 | Loss: 0.02962886355817318 | test loss: 0.09183744341135025\n",
      "OrderedDict({'weights': tensor([0.4946]), 'bias': tensor([0.7381])})\n",
      "Epoch: 80 | Loss: 0.027494391426444054 | test loss: 0.08823417872190475\n",
      "OrderedDict({'weights': tensor([0.4816]), 'bias': tensor([0.7448])})\n",
      "Epoch: 90 | Loss: 0.025415269657969475 | test loss: 0.08215684443712234\n",
      "OrderedDict({'weights': tensor([0.4680]), 'bias': tensor([0.7495])})\n",
      "Epoch: 100 | Loss: 0.023347552865743637 | test loss: 0.07525484263896942\n",
      "OrderedDict({'weights': tensor([0.4542]), 'bias': tensor([0.7535])})\n",
      "Epoch: 110 | Loss: 0.021277543157339096 | test loss: 0.06835285574197769\n",
      "OrderedDict({'weights': tensor([0.4404]), 'bias': tensor([0.7575])})\n",
      "Epoch: 120 | Loss: 0.019214779138565063 | test loss: 0.062275536358356476\n",
      "OrderedDict({'weights': tensor([0.4268]), 'bias': tensor([0.7621])})\n",
      "Epoch: 130 | Loss: 0.01715409755706787 | test loss: 0.055373527109622955\n",
      "OrderedDict({'weights': tensor([0.4130]), 'bias': tensor([0.7661])})\n",
      "Epoch: 140 | Loss: 0.015093417838215828 | test loss: 0.048471543937921524\n",
      "OrderedDict({'weights': tensor([0.3992]), 'bias': tensor([0.7701])})\n",
      "Epoch: 150 | Loss: 0.013027497567236423 | test loss: 0.04156956449151039\n",
      "OrderedDict({'weights': tensor([0.3853]), 'bias': tensor([0.7741])})\n",
      "Epoch: 160 | Loss: 0.010957479476928711 | test loss: 0.034667547792196274\n",
      "OrderedDict({'weights': tensor([0.3715]), 'bias': tensor([0.7781])})\n",
      "Epoch: 170 | Loss: 0.008892925456166267 | test loss: 0.028590235859155655\n",
      "OrderedDict({'weights': tensor([0.3579]), 'bias': tensor([0.7828])})\n",
      "Epoch: 180 | Loss: 0.0068322401493787766 | test loss: 0.021688217297196388\n",
      "OrderedDict({'weights': tensor([0.3441]), 'bias': tensor([0.7868])})\n",
      "Epoch: 190 | Loss: 0.004771558567881584 | test loss: 0.014786219224333763\n",
      "OrderedDict({'weights': tensor([0.3303]), 'bias': tensor([0.7908])})\n"
     ]
    }
   ],
   "source": [
    "epochs = 200\n",
    "\n",
    "\n",
    "## Training loop\n",
    "for epoch in range(epochs):\n",
    "  #set the model to training mode\n",
    "  model_0.train() # train mode in PyTorch sets all params that require gradients to track gradients\n",
    "\n",
    "  #forward pass\n",
    "  y_preds = model_0(X_train)\n",
    "  # caluc loss\n",
    "  loss = loss_fn(y_preds, y_train)\n",
    "  #zero_grad\n",
    "  optimizer.zero_grad()\n",
    "  #backward propogation\n",
    "  loss.backward()\n",
    "  #optimizer\n",
    "  #by default optimizer changes will accumulate through the loop\n",
    "  #so we have to zero them\n",
    "  optimizer.step()\n",
    "\n",
    "  # testing\n",
    "  model_0.eval() # turns off gradient tracking \n",
    "  with torch.inference_mode():\n",
    "\n",
    "    test_pred = model_0(X_test)\n",
    "    test_loss = loss_fn(test_pred, y_test)\n",
    "\n",
    "  if epoch % 10 == 0:\n",
    "    print(f\"Epoch: {epoch} | Loss: {loss} | test loss: {test_loss}\")\n",
    "    print(model_0.state_dict())\n"
   ]
  },
  {
   "cell_type": "code",
   "execution_count": 49,
   "metadata": {},
   "outputs": [
    {
     "data": {
      "image/png": "[encoded data removed]",
      "text/plain": [
       "<Figure size 1000x700 with 1 Axes>"
      ]
     },
     "metadata": {},
     "output_type": "display_data"
    }
   ],
   "source": [
    "with torch.inference_mode():\n",
    "  y_preds_new = model_0(X_test)\n",
    "\n",
    "plot_predictions(prediction=y_preds_new)"
   ]
  },
  {
   "cell_type": "markdown",
   "metadata": {},
   "source": [
    "## Saving a model in PyTorch\n",
    "There are three main methors for saving and loading models in PyTorch.\n",
    "\n",
    "1. `toch.save()` This will use python pickle format\n",
    "2. `torch.load()` - allows you to load a saved PyTorchObject\n",
    "3. `torch.nn.Module.load_state_dict()` This will load the state_dict"
   ]
  },
  {
   "cell_type": "code",
   "execution_count": 50,
   "metadata": {},
   "outputs": [
    {
     "name": "stdout",
     "output_type": "stream",
     "text": [
      "Saving model to models/01_pytorch_workflow_model_0.pth\n"
     ]
    }
   ],
   "source": [
    "# saving the model\n",
    "\n",
    "from pathlib import Path\n",
    "\n",
    "# Create models directory\n",
    "MODEL_PATH = Path('models')\n",
    "MODEL_PATH.mkdir(parents=True, exist_ok=True)\n",
    "\n",
    "# Create model save path\n",
    "MODEL_NAME = '01_pytorch_workflow_model_0.pth'\n",
    "MODEL_SAVE_PATH = MODEL_PATH/MODEL_NAME\n",
    "\n",
    "print(f\"Saving model to {MODEL_SAVE_PATH}\")\n",
    "torch.save(model_0.state_dict(), f=MODEL_SAVE_PATH)\n"
   ]
  },
  {
   "cell_type": "code",
   "execution_count": 52,
   "metadata": {},
   "outputs": [
    {
     "data": {
      "text/plain": [
       "OrderedDict([('weights', tensor([0.3180])), ('bias', tensor([0.7948]))])"
      ]
     },
     "execution_count": 52,
     "metadata": {},
     "output_type": "execute_result"
    }
   ],
   "source": [
    "# loading pytorch model\n",
    "# as we just saved the state_dict so we will create another model and load the dicts there\n",
    "loaded_model_0 = LinearRegressionModel()\n",
    "\n",
    "loaded_model_0.load_state_dict(torch.load(MODEL_SAVE_PATH))\n",
    "\n",
    "loaded_model_0.state_dict()"
   ]
  },
  {
   "cell_type": "code",
   "execution_count": 53,
   "metadata": {},
   "outputs": [
    {
     "data": {
      "text/plain": [
       "tensor([[True],\n",
       "        [True],\n",
       "        [True],\n",
       "        [True],\n",
       "        [True],\n",
       "        [True],\n",
       "        [True],\n",
       "        [True],\n",
       "        [True],\n",
       "        [True],\n",
       "        [True],\n",
       "        [True],\n",
       "        [True],\n",
       "        [True],\n",
       "        [True],\n",
       "        [True],\n",
       "        [True],\n",
       "        [True],\n",
       "        [True],\n",
       "        [True]])"
      ]
     },
     "execution_count": 53,
     "metadata": {},
     "output_type": "execute_result"
    }
   ],
   "source": [
    "# Test the predictions with our loaded model\n",
    "\n",
    "loaded_model_0.eval()\n",
    "with torch.inference_mode():\n",
    "  loaded_model_preds = loaded_model_0(X_test)\n",
    "\n",
    "loaded_model_preds == y_preds_new"
   ]
  },
  {
   "cell_type": "code",
   "execution_count": null,
   "metadata": {},
   "outputs": [],
   "source": []
  }
 ],
 "metadata": {
  "kernelspec": {
   "display_name": "ai_base",
   "language": "python",
   "name": "python3"
  },
  "language_info": {
   "codemirror_mode": {
    "name": "ipython",
    "version": 3
   },
   "file_extension": ".py",
   "mimetype": "text/x-python",
   "name": "python",
   "nbconvert_exporter": "python",
   "pygments_lexer": "ipython3",
   "version": "3.12.3"
  }
 },
 "nbformat": 4,
 "nbformat_minor": 2
}
